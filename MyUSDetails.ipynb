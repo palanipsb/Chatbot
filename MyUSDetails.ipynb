{
  "nbformat": 4,
  "nbformat_minor": 0,
  "metadata": {
    "colab": {
      "provenance": [],
      "authorship_tag": "ABX9TyPwQtU064kBco0HspELNV/T",
      "include_colab_link": true
    },
    "kernelspec": {
      "name": "python3",
      "display_name": "Python 3"
    },
    "language_info": {
      "name": "python"
    }
  },
  "cells": [
    {
      "cell_type": "markdown",
      "metadata": {
        "id": "view-in-github",
        "colab_type": "text"
      },
      "source": [
        "<a href=\"https://colab.research.google.com/github/palanipsb/Chatbot/blob/master/MyUSDetails.ipynb\" target=\"_parent\"><img src=\"https://colab.research.google.com/assets/colab-badge.svg\" alt=\"Open In Colab\"/></a>"
      ]
    },
    {
      "cell_type": "code",
      "execution_count": 1,
      "metadata": {
        "id": "37a3CMNuMrRJ",
        "outputId": "c2d7f3ec-a2b3-431c-ffb5-f062c7d6fba0",
        "colab": {
          "base_uri": "https://localhost:8080/"
        }
      },
      "outputs": [
        {
          "output_type": "execute_result",
          "data": {
            "text/plain": [
              "2"
            ]
          },
          "metadata": {},
          "execution_count": 1
        }
      ],
      "source": [
        "1+1"
      ]
    },
    {
      "cell_type": "markdown",
      "source": [
        "Palani - S-01738565\n",
        "Mano - S-01738566\n",
        "\n",
        "US Visa application ID\n",
        "Palani - AA00CPJVP3 AMMACHI\n",
        "Mano - AA00CPJYLX SAROJA\n",
        "Password: @935H!dejkOP6\n",
        "\n",
        "IVR - 55754281\n",
        "\n",
        "Travel date - 07/May/2024 3-weeks\n",
        "\n",
        "JANAKIRAMAIAH SANGAM\n",
        "8357 SILVERADO DR\n",
        "IN - 46237\n",
        "\n",
        "I DID FLAG POLLING ON 28 MAY 2022 FOR MY WORK PERMIT EXTENSION AT ST.STEPHEN THIRD BRIDGE - USA-CANADA BORDER\n",
        "\n",
        "Responsible for the programming of Technical Operations software. Function as a mentor and support other Programmer Analysts\n",
        "\n",
        "Recovery codes for The Government of Canada issued on: Monday, July 31, 2023 at 10:51:22 EDT\n",
        "\n",
        "kMH6-HF85-WFNe\n",
        "gdgt-F8r9-7nnv\n",
        "KKB8-MSrA-PYVu\n",
        "8JXM-ZD6R-KcVS\n",
        "CmAP-Yanc-DD2q\n",
        "\n",
        "\n",
        "ADP OLD:\n",
        "Username: PSUBRAMA\n",
        "Password: ponni100subN3w@\n",
        "Client: E10106\n",
        "\n",
        "CRA Login\n",
        "Username: SUBRAMANIPA\n",
        "Pass: ponni100subN3w_\n",
        "\n",
        "ADP NEW:\n",
        "Username: PALANIPSB\n",
        "Password: ponni100subN3w@\n",
        "\n",
        "Library Card Number: 23293011596404"
      ],
      "metadata": {
        "id": "NSf8lWVmMtfl"
      }
    }
  ]
}