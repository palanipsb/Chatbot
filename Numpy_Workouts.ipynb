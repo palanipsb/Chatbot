{
  "nbformat": 4,
  "nbformat_minor": 0,
  "metadata": {
    "colab": {
      "provenance": [],
      "authorship_tag": "ABX9TyMbKRz17U+vysQgouDTndDD",
      "include_colab_link": true
    },
    "kernelspec": {
      "name": "python3",
      "display_name": "Python 3"
    },
    "language_info": {
      "name": "python"
    }
  },
  "cells": [
    {
      "cell_type": "markdown",
      "metadata": {
        "id": "view-in-github",
        "colab_type": "text"
      },
      "source": [
        "<a href=\"https://colab.research.google.com/github/palanipsb/Chatbot/blob/master/Numpy_Workouts.ipynb\" target=\"_parent\"><img src=\"https://colab.research.google.com/assets/colab-badge.svg\" alt=\"Open In Colab\"/></a>"
      ]
    },
    {
      "cell_type": "markdown",
      "source": [
        "Numpy Execercises"
      ],
      "metadata": {
        "id": "57UinYeQRuTz"
      }
    },
    {
      "cell_type": "code",
      "source": [],
      "metadata": {
        "id": "uJermLGtR1Lf"
      },
      "execution_count": null,
      "outputs": []
    }
  ]
}