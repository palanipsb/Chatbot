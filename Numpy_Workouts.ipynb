{
  "nbformat": 4,
  "nbformat_minor": 0,
  "metadata": {
    "colab": {
      "provenance": [],
      "authorship_tag": "ABX9TyPzpEArKGp2++KSwmcoytl6",
      "include_colab_link": true
    },
    "kernelspec": {
      "name": "python3",
      "display_name": "Python 3"
    },
    "language_info": {
      "name": "python"
    }
  },
  "cells": [
    {
      "cell_type": "markdown",
      "metadata": {
        "id": "view-in-github",
        "colab_type": "text"
      },
      "source": [
        "<a href=\"https://colab.research.google.com/github/palanipsb/Chatbot/blob/master/Numpy_Workouts.ipynb\" target=\"_parent\"><img src=\"https://colab.research.google.com/assets/colab-badge.svg\" alt=\"Open In Colab\"/></a>"
      ]
    },
    {
      "cell_type": "markdown",
      "source": [
        "Numpy Execercises"
      ],
      "metadata": {
        "id": "57UinYeQRuTz"
      }
    },
    {
      "cell_type": "code",
      "source": [
        "import numpy as np"
      ],
      "metadata": {
        "id": "uJermLGtR1Lf"
      },
      "execution_count": 2,
      "outputs": []
    },
    {
      "cell_type": "code",
      "source": [
        "a = np.array([2,3])\n",
        "b= np.array([4,5])\n",
        "c= a+b\n",
        "print(c)"
      ],
      "metadata": {
        "id": "fgkS0x22SHHE",
        "outputId": "c82d432b-c46c-4239-a6a5-d48618e16387",
        "colab": {
          "base_uri": "https://localhost:8080/"
        }
      },
      "execution_count": 5,
      "outputs": [
        {
          "output_type": "stream",
          "name": "stdout",
          "text": [
            "[6 8]\n"
          ]
        }
      ]
    },
    {
      "cell_type": "code",
      "source": [
        "d = np.arange(5)\n",
        "d.shape"
      ],
      "metadata": {
        "id": "i1Rr3G-4SZju",
        "outputId": "aff87e2f-b5cf-4158-8a88-a93c566350f3",
        "colab": {
          "base_uri": "https://localhost:8080/"
        }
      },
      "execution_count": 10,
      "outputs": [
        {
          "output_type": "stream",
          "name": "stdout",
          "text": [
            "[[2 3]]\n"
          ]
        }
      ]
    },
    {
      "cell_type": "code",
      "source": [
        "e= np.arange(5)\n",
        "f = e[np.newaxis,1:10]\n",
        "print(f.shape)\n",
        "print(f)"
      ],
      "metadata": {
        "id": "V6AkmzDOSxdm",
        "outputId": "48f447ae-0112-4cab-f6cd-f7c9e8731ba4",
        "colab": {
          "base_uri": "https://localhost:8080/"
        }
      },
      "execution_count": 18,
      "outputs": [
        {
          "output_type": "stream",
          "name": "stdout",
          "text": [
            "(1, 4)\n",
            "[[1 2 3 4]]\n"
          ]
        }
      ]
    }
  ]
}