{
  "nbformat": 4,
  "nbformat_minor": 0,
  "metadata": {
    "colab": {
      "provenance": [],
      "authorship_tag": "ABX9TyO/7HDvwKv3qAqHIqCpNcAq",
      "include_colab_link": true
    },
    "kernelspec": {
      "name": "python3",
      "display_name": "Python 3"
    },
    "language_info": {
      "name": "python"
    }
  },
  "cells": [
    {
      "cell_type": "markdown",
      "metadata": {
        "id": "view-in-github",
        "colab_type": "text"
      },
      "source": [
        "<a href=\"https://colab.research.google.com/github/palanipsb/Chatbot/blob/master/Myjwork_k2.ipynb\" target=\"_parent\"><img src=\"https://colab.research.google.com/assets/colab-badge.svg\" alt=\"Open In Colab\"/></a>"
      ]
    },
    {
      "cell_type": "code",
      "execution_count": null,
      "metadata": {
        "id": "Zlni1q0lwi1A"
      },
      "outputs": [],
      "source": []
    },
    {
      "cell_type": "markdown",
      "source": [
        "@Entity\n",
        "@DiscriminatorValue(\"KitStatus\")\n",
        "@NamedQueries( {\n",
        "\t@NamedQuery(\n",
        "\t\t\tname=KitStatus.KIT_STATUS_ALLOWING_TRANSITION_TO,\n",
        "\t\t\tquery=\"select s from KitStatus s inner join s.transitions t where t.toStatus =:toStatus\"\n",
        "\t)\n",
        "})\n",
        "public class KitStatus extends Status{\n",
        "\tpublic static final String KIT_STATUS_ALLOWING_TRANSITION_TO = \"KIT_STATUS_ALLOWING_TRANSITION_TO\";\n",
        "\n",
        "\t@Column(name=\"LOCATION_TYPE\")\n",
        "\tprivate String locationType;\n",
        "\n",
        "\tpublic Set<KitStatus> getAllowedFollowUpStatus() {\n",
        "\t\tSet<KitStatus> result = new HashSet<KitStatus>();\n",
        "\t\tfor (Transition transition : super.getTransitions()){\n",
        "\t\t\tStatus status = transition.getToStatus();\n",
        "\t\t\tstatus = (Status) DrugConfigurationImpl.getHibernateDrugUtil().replaceProxyWithClass(status);\n",
        "\n",
        "\t\t\tif (status instanceof KitStatus){\n",
        "\t\t\t\tKitStatus kitStatus = (KitStatus) status;\n",
        "\t\t\t\tresult.add(kitStatus);\n",
        "\t\t\t}\n",
        "\t\t}\n",
        "\t\treturn result;\n",
        "\t}\n",
        "\n",
        "\tpublic static KitStatus getById(KitStatusValues status){\n",
        "\t\tfinal Session sess = HibernateUtil.getInstance().currentSession();\n",
        "\t\tKitStatus result = (KitStatus) sess.get(KitStatus.class,  KitStatus.class.getSimpleName()+\"_\"+status.toString());\n",
        "\t\treturn result;\n",
        "\t}\n"
      ],
      "metadata": {
        "id": "37xtci1TwjPh"
      }
    }
  ]
}