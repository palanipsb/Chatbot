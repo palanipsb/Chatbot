{
  "nbformat": 4,
  "nbformat_minor": 0,
  "metadata": {
    "colab": {
      "provenance": [],
      "authorship_tag": "ABX9TyNcTbeybh+eAAxWSD0CFh/h",
      "include_colab_link": true
    },
    "kernelspec": {
      "name": "python3",
      "display_name": "Python 3"
    },
    "language_info": {
      "name": "python"
    }
  },
  "cells": [
    {
      "cell_type": "markdown",
      "metadata": {
        "id": "view-in-github",
        "colab_type": "text"
      },
      "source": [
        "<a href=\"https://colab.research.google.com/github/palanipsb/Chatbot/blob/master/MyJWork_k1.ipynb\" target=\"_parent\"><img src=\"https://colab.research.google.com/assets/colab-badge.svg\" alt=\"Open In Colab\"/></a>"
      ]
    },
    {
      "cell_type": "code",
      "execution_count": null,
      "metadata": {
        "id": "3KGR3-EtwEpx"
      },
      "outputs": [],
      "source": []
    },
    {
      "cell_type": "markdown",
      "source": [
        "@Entity\n",
        "@Table(name=\"DRUG_KIT\")\n",
        "@NamedQueries({\n",
        "\t@NamedQuery(\n",
        "\t\t\tname = Kit.QUERY_GET_TEMP_CONTROLLED_UNBLINDED_KITTYPES_BY_SHIPMENT,\n",
        "\t\t\tquery = \"Select count(k) from Kit k inner join k.unblindedKitType uk where k.shipment=:shipment and uk.tempControlled = true\"\n",
        "\t),\n",
        "\t@NamedQuery(\n",
        "\t\t\tname = Kit.QUERY_KIT_BAD_BLOCKS_BY_FILE_ITEM_AND_UKT,\n",
        "\t\t\tquery = \"Select k.blockNumber from Kit k where k.fileItem=:fileItem and k.unblindedKitType=:ukt group by k.blockNumber having count(*) <> :blockSize \"\n",
        "\t),\n",
        "\t@NamedQuery(\n",
        "\t\t\tname = Kit.QUERY_KIT_UPDATE_WITH_PREVIOUS_STATUS_BASED_ON_ID_AND_MODIFIED_AT,\n",
        "\t\t\tquery = \"update Kit k set k.status = :status, k.previousStatus = k.status, k.modifiedBy = :modifiedBy, k.lastModifiedAt = :lastModifiedAt where k.id = :id and k.lastModifiedAt = :oldLastModifiedAt\"\n",
        "\t),\n",
        "\t@NamedQuery(\n",
        "\t\t\tname = Kit.QUERY_KIT_UPDATE_WITHOUT_PREVIOUS_STATUS_BASED_ON_ID_AND_MODIFIED_AT,\n",
        "\t\t\tquery = \"update Kit k set k.status = :status, k.modifiedBy = :modifiedBy, k.lastModifiedAt = :lastModifiedAt where k.id = :id and k.lastModifiedAt = :oldLastModifiedAt\"\n",
        "\t)\n",
        "})\n",
        "public class Kit implements DefaultPersistentClassAPI, NotifierObjectAPI, Extendable {\n",
        "\n",
        "\tpublic static final String QUERY_GET_TEMP_CONTROLLED_UNBLINDED_KITTYPES_BY_SHIPMENT = \"QUERY_GET_TEMP_CONTROLLED_UNBLINDED_KITTYPES_BY_SHIPMENT\";\n",
        "\tpublic static final String QUERY_KIT_BAD_BLOCKS_BY_FILE_ITEM_AND_UKT = \"QUERY_KIT_BAD_BLOCKS_BY_FILE_ITEM_AND_UKT\";\n",
        "\tpublic static final String QUERY_KIT_UPDATE_WITH_PREVIOUS_STATUS_BASED_ON_ID_AND_MODIFIED_AT = \"QUERY_KIT_UPDATE_WITH_PREVIOUS_STATUS_BASED_ON_ID_AND_MODIFIED_AT\";\n",
        "\tpublic static final String QUERY_KIT_UPDATE_WITHOUT_PREVIOUS_STATUS_BASED_ON_ID_AND_MODIFIED_AT = \"QUERY_KIT_UPDATE_WITHOUT_PREVIOUS_STATUS_BASED_ON_ID_AND_MODIFIED_AT\";\n",
        "\n",
        "\t@Id\n",
        "\t@GenericGenerator(name=\"StringIdGenerator\", strategy=\"com.as.drug.core.domainobject.StringKeyGenerator\",\n",
        "\t\tparameters={@Parameter(name=StringKeyGenerator.SEQUENCE_NAME, value=\"DRUG_KIT_SEQ\")})\n",
        "\t@GeneratedValue(strategy = GenerationType.SEQUENCE, generator = \"StringIdGenerator\")\n",
        "\t@Column(name = \"ID\")\n",
        "\tprivate String id;"
      ],
      "metadata": {
        "id": "qDH27OwiwFY0"
      }
    }
  ]
}