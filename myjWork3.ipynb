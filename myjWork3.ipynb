{
  "nbformat": 4,
  "nbformat_minor": 0,
  "metadata": {
    "colab": {
      "provenance": [],
      "authorship_tag": "ABX9TyNH0BweMIHj9y9SrNqMxtoj",
      "include_colab_link": true
    },
    "kernelspec": {
      "name": "python3",
      "display_name": "Python 3"
    },
    "language_info": {
      "name": "python"
    }
  },
  "cells": [
    {
      "cell_type": "markdown",
      "metadata": {
        "id": "view-in-github",
        "colab_type": "text"
      },
      "source": [
        "<a href=\"https://colab.research.google.com/github/palanipsb/Chatbot/blob/master/myjWork3.ipynb\" target=\"_parent\"><img src=\"https://colab.research.google.com/assets/colab-badge.svg\" alt=\"Open In Colab\"/></a>"
      ]
    },
    {
      "cell_type": "code",
      "execution_count": null,
      "metadata": {
        "id": "Zlni1q0lwi1A"
      },
      "outputs": [],
      "source": []
    },
    {
      "cell_type": "markdown",
      "source": [
        "package com.as.drug.core.domainobject;\n",
        "\n",
        "import java.util.Map;\n",
        "\n",
        "import javax.persistence.DiscriminatorValue;\n",
        "import javax.persistence.Entity;\n",
        "import javax.persistence.JoinColumn;\n",
        "import javax.persistence.ManyToOne;\n",
        "import javax.persistence.MapKey;\n",
        "import javax.persistence.OneToMany;\n",
        "\n",
        "import org.hibernate.annotations.SQLUpdate;\n",
        "\n",
        "import com.cr.logger.annotations.DefaultLogger;\n",
        "\n",
        "@DefaultLogger(name=\"com.as.drug.core.domainobject.Warehouse\")\n",
        "\n",
        "@SQLUpdate( sql=\"MERGE INTO DRUG_LOCATION\" +\n",
        "\t\t\"\t\t\tUSING\" +\n",
        "\t\t\"(\" +\n",
        "\t\t\" SELECT NEW_DATASET.*, DRUG_LOCATION.ID AS ID_IN_TABLE FROM\" +\n",
        "\t\t\"(SELECT\" +\n",
        "\t\t\"\t ? AS MODIFIED_AT,\" +\n",
        "\t\t\"\t ? AS LOCATION_SEQ_NUMBER,\"+\n",
        "\t\t\"\t ? AS MODIFIED,\" +\n",
        "\t\t\"\t ? AS STATUS_ID,\" +\n",
        "\t\t\"\t ? AS ID,\" +\n",
        "\t\t\"\t ? AS LAST_MODIFIED_AT\" +\n",
        "\t\t\"\t FROM DUAL) NEW_DATASET,\" +\n",
        "\t\t\"\t DRUG_LOCATION,\" +\n",
        "\t\t\"    V_DRUG_LOCATION\" +\n",
        "\t\t\"\t WHERE NEW_DATASET.ID = DRUG_LOCATION.ID(+) \" +\n",
        "\t\t\"\t AND NEW_DATASET.LAST_MODIFIED_AT = V_DRUG_LOCATION.MODIFIED_AT\" +\n",
        "\t\t\"    AND NEW_DATASET.ID = V_DRUG_LOCATION.ID\" +\n",
        "\t\t\" ) NEW_DATASET \" +\n",
        "\t\t\"\tON (DRUG_LOCATION.ID = NEW_DATASET.ID_IN_TABLE)\" +\n",
        "\t\t\"\tWHEN MATCHED THEN\" +\n",
        "\t\t\"\tUPDATE SET\" +\n",
        "\t\t\"\t\t\tMODIFIED_AT = NEW_DATASET.MODIFIED_AT,\" +\n",
        "\t\t\"\t \t\tLOCATION_SEQ_NUMBER = NEW_DATASET.LOCATION_SEQ_NUMBER,\" +\n",
        "\t\t\"\t\t\tMODIFIED = NEW_DATASET.MODIFIED,\" +\n",
        "\t\t\"\t \t\tSTATUS_ID = NEW_DATASET.STATUS_ID\" +\n",
        "\t\t\"\t WHEN NOT MATCHED THEN\" +\n",
        "\t\t\"\t \tINSERT (\" +\n",
        "\t\t\"\t \tID, \" +\n",
        "\t\t\"\t \tMODIFIED_AT, \" +\n",
        "\t\t\"\t \tMODIFIED,\" +\n",
        "\t\t\"\t\tLOCATION_SEQ_NUMBER,\" +\n",
        "\t\t\"\t \tSTATUS_ID\" +\n",
        "\t\t\"\t \t) VALUES (\" +\n",
        "\t\t\"\t\t\tNEW_DATASET.ID,\" +\n",
        "\t\t\"\t\t\tNEW_DATASET.MODIFIED_AT,\" +\n",
        "\t\t\"\t \t\tNEW_DATASET.MODIFIED,\" +\n",
        "\t\t\"\t \t\tNEW_DATASET.LOCATION_SEQ_NUMBER,\" +\n",
        "\t\t\"\t \t\tNEW_DATASET.STATUS_ID\" +\n",
        "\t\t\"\t \t)\")\n",
        "@Entity\n",
        "@DiscriminatorValue(\"Warehouse\")\n",
        "public class Warehouse extends Location {\n",
        "\n",
        "\t@ManyToOne\n",
        "\t@JoinColumn(name=\"STATUS_ID\", nullable=false)\n",
        "\tprivate LocationStatus status;\n",
        "\n",
        "\t@OneToMany(mappedBy=\"warehouse\", orphanRemoval=true)\n",
        "\t@org.hibernate.annotations.Cascade(org.hibernate.annotations.CascadeType.ALL)\n",
        "\t@MapKey(name=\"enrollmentLevel\")\n",
        "    private Map<EnrollmentLevel, WarehouseSupplyConf> supplyConf;\n",
        "\n",
        "\t/**\n",
        "\t * Setter for the property supplyConf\n",
        "\t *\n",
        "\t * @param supplyConf the supplyConf to set\n",
        "\t */\n",
        "\tpublic void setSupplyConf(Map<EnrollmentLevel, WarehouseSupplyConf> supplyConf) {\n",
        "\t\tthis.supplyConf = supplyConf;\n",
        "\t}\n",
        "\n",
        "\t/**\n",
        "\t * Getter for the property supplyConf\n",
        "\t *\n",
        "\t * @return the supplyConf\n",
        "\t */\n",
        "\tpublic Map<EnrollmentLevel, WarehouseSupplyConf> getSupplyConf() {\n",
        "\t\treturn supplyConf;\n",
        "\t}\n",
        "\n",
        "\t@Override\n",
        "\tpublic LocationStatus getStatus() {\n",
        "\t\treturn status;\n",
        "\t}\n",
        "\n",
        "\t@Override\n",
        "\tpublic void setStatus(LocationStatus status) {\n",
        "\t\tthis.status = status;\n",
        "\t}\n",
        "}\n"
      ],
      "metadata": {
        "id": "37xtci1TwjPh"
      }
    }
  ]
}