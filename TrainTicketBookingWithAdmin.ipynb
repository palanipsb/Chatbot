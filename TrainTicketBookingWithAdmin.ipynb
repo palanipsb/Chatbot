{
  "nbformat": 4,
  "nbformat_minor": 0,
  "metadata": {
    "colab": {
      "provenance": [],
      "authorship_tag": "ABX9TyNl9wnk2lsPXnWUQtNFoJw1",
      "include_colab_link": true
    },
    "kernelspec": {
      "name": "python3",
      "display_name": "Python 3"
    },
    "language_info": {
      "name": "python"
    }
  },
  "cells": [
    {
      "cell_type": "markdown",
      "metadata": {
        "id": "view-in-github",
        "colab_type": "text"
      },
      "source": [
        "<a href=\"https://colab.research.google.com/github/palanipsb/Chatbot/blob/master/TrainTicketBookingWithAdmin.ipynb\" target=\"_parent\"><img src=\"https://colab.research.google.com/assets/colab-badge.svg\" alt=\"Open In Colab\"/></a>"
      ]
    },
    {
      "cell_type": "code",
      "execution_count": 230,
      "metadata": {
        "id": "bJscdCB5n3NC"
      },
      "outputs": [],
      "source": [
        "class ConfigLables:\n",
        "\n",
        "  GETTRAINNUMBER = '\\nPlease Enter the Train Number: '\n",
        "  BOOKINGCONFIRM = '\\nCongrats! Booking confirmed!. Please note the PNR number to check booking details. PNR:'\n",
        "  BOOKINGCACEL = 'Thank you!. Your ticket has been cancelled. You will get your refund in 48 hours!'\n",
        "  BOOKINGDETAILS = '\\n'+'*'*30+' Booking Details for PNR: {} '+'*'*30\n",
        "  USERNAME = '\\nPlease enter booking name: '\n",
        "  USERYOB = '\\nPlease enter the YOB: '\n",
        "  USERAGE = '\\nPlease enter the Age: '\n",
        "  GETTHEOPTION = '\\nPlease Enter the Option: '\n",
        "  GETPNRNUMBER = '\\nPlease Enter the PNR Number: '\n",
        "  GETCOACH = '\\nPlease Enter the Coach: '\n",
        "  GETSTATIONCODE = '\\nPlease Enter the Station Code: '\n",
        "  GETPASSANGERCOUNT = '\\nPlease enter number of passangers: '\n",
        "  GETFOOFQTY = '\\nPlease Enter the food quatity: '\n",
        "  DISPTRANDETAILS = '{0} : From - {1}: {2} To {3}: {4} (Stopping Stations: {5})\\n'\n",
        "  DISPCOACHDETAILS = 'Coach: {0}  || Available seats({1})  || Fare: {2:.2f} Per Adult + Reservartion Chargers'\n",
        "  DISPTRAINUMBER ='\\n'+'*'*30+' Train Number: {} '+'*'*30\n",
        "\n",
        "class TrainDetails(ConfigLables):\n",
        "  trainData = {}\n",
        "\n",
        "  def __init__(\n",
        "      self,\n",
        "      trainNo,\n",
        "      trainName,\n",
        "      seatCount1AC,\n",
        "      baseFare1AC,\n",
        "      seatCount2AC,\n",
        "      baseFare2AC,\n",
        "      seatCountSl,\n",
        "      baseFareSl,\n",
        "      seatCountG,\n",
        "      baseFareG,\n",
        "      stoppings,\n",
        "      deptStat,\n",
        "      arrivStat,\n",
        "      pricePerKm,\n",
        "  ):\n",
        "      self.trainNo = trainNo\n",
        "      self.trainName = trainName\n",
        "      self.seatCount1AC = seatCount1AC\n",
        "      self.baseFare1AC = baseFare1AC\n",
        "      self.seatCount2AC = seatCount2AC\n",
        "      self.baseFare2AC = baseFare2AC\n",
        "      self.seatCountSl = seatCountSl\n",
        "      self.baseFareSl = baseFareSl\n",
        "      self.seatCountG = seatCountG\n",
        "      self.baseFareG = baseFareG\n",
        "      self.stoppings = stoppings\n",
        "      self.deptStat = deptStat\n",
        "      self.arrivStat = deptStat\n",
        "      self.pricePerKm = pricePerKm\n",
        "\n",
        "  def trainDataEntry(self):\n",
        "      self.trainData.update(\n",
        "          {\n",
        "              self.trainNo: {\n",
        "                  \"name\": self.trainName,\n",
        "                  \"availableCoaches\": {\n",
        "                      \"1AC\": {\n",
        "                          \"availableSeats\": self.seatCount1AC,\n",
        "                          \"baseFare\": self.baseFare1AC,\n",
        "                      },\n",
        "                      \"2AC\": {\n",
        "                          \"availableSeats\": self.seatCount2AC,\n",
        "                          \"baseFare\": self.baseFare2AC,\n",
        "                      },\n",
        "                      \"SLP\": {\n",
        "                          \"availableSeats\": self.seatCountSl,\n",
        "                          \"baseFare\": self.baseFareSl,\n",
        "                      },\n",
        "                      \"GEN\": {\n",
        "                          \"availableSeats\": self.seatCountG,\n",
        "                          \"baseFare\": self.baseFareG,\n",
        "                      },\n",
        "                  },\n",
        "                  \"stoppingSations\": self.stoppings,\n",
        "                  \"departureStation\": self.deptStat,\n",
        "                  \"arrivalStation\": self.arrivStat,\n",
        "                  \"pricePerKm\": self.pricePerKm,\n",
        "              }\n",
        "          }\n",
        "      )\n",
        "\n",
        "  def getTrainName(self, trainNo):\n",
        "    return [j['name'] for i, j in self.trainData.items() if i==self.trainNo][0]\n",
        "\n",
        "  def getTrainStoppings(self,trainNo):\n",
        "    return [j['stoppingSations'] for i, j in self.trainData.items() if i==self.trainNo][0]\n",
        "\n",
        "  def getCoachDetails(self,trainNo):\n",
        "    self.coachOptions = {}\n",
        "    for i,j in self.trainData.items():\n",
        "      if i==self.trainNo:\n",
        "        for a,b in j['availableCoaches'].items():\n",
        "          self.coachOptions.update({a:{'seats':b['availableSeats'], 'baseBare':b['baseFare']}})\n",
        "    return(self.coachOptions)\n",
        "\n",
        "  def updateAvailableSeats(self,trainNo,coach,numberOfPassangers,bookOrCancel):\n",
        "    self.coach = coach\n",
        "    self.numberOfPassangers = numberOfPassangers\n",
        "    self.bookOrCancel = bookOrCancel\n",
        "    for i,j in self.trainData.items():\n",
        "      if i==self.trainNo:\n",
        "        for a,b in j['availableCoaches'].items():\n",
        "          if a==self.coach:\n",
        "            if self.bookOrCancel == 'Cancel':\n",
        "              self.trainData[i]['availableCoaches'][a]['availableSeats'] -= self.numberOfPassangers\n",
        "            else:\n",
        "              self.trainData[i]['availableCoaches'][a]['availableSeats'] += self.numberOfPassangers\n",
        "\n",
        "  def displayTrainDetailsWithCoach(self,trainNo):\n",
        "    #self.coachOptions = {}\n",
        "    print(self.DISPTRAINUMBER.format(self.trainNo))\n",
        "    for i,j in self.trainData.items():\n",
        "      if i==self.trainNo:\n",
        "        for a,b in j['availableCoaches'].items():\n",
        "          #self.coachOptions.update({a:{'seats':b['availableSeats'], 'baseBare':b['baseFare']}})\n",
        "          print(self.DISPCOACHDETAILS.format(a,b['availableSeats'],b['baseFare']))\n",
        "    #return self.coachOptions\n",
        "\n",
        "  def displayTrainDetails(self,trainNo):\n",
        "    self.stoppingSats = []\n",
        "    for i,j in TrainDetails.trainData.items():\n",
        "      if i==self.trainNo:\n",
        "        for m,n in TrainDetails.stationData.items():\n",
        "          if m == j['departureStation']:\n",
        "            self.depatureStationCode,self.depatureStationName = m,n['name']\n",
        "          elif m == j['arrivalStation']:\n",
        "            self.arrivalStationCode,self.arrivalStationName = m,n['name']\n",
        "          if m in j['stoppingSations']:\n",
        "            self.stoppingSats = self.stoppingSats + m + ' - '+n['name']+'; '\n",
        "        print(self.DISPTRANDETAILS.format(self.trainNo,self.depatureStationCode,self.depatureStationName,self.arrivalStationCode,self.arrivalStationName,self.stoppingSats[0:-2]))\n",
        "\n",
        "class StationDetails:\n",
        "  stationData = {}\n",
        "  stoppingTrains = {}\n",
        "\n",
        "  def __init__(self, stationCode, stationName, distance, trainDetails):\n",
        "      self.stationCode = stationCode\n",
        "      self.stationName = stationName\n",
        "      self.distance = distance\n",
        "      self.trainDetails = trainDetails\n",
        "\n",
        "  def stationDataEntry(self):\n",
        "      stationData = {}\n",
        "      for i, j in self.trainDetails.items():\n",
        "          self.stoppingTrains.update(\n",
        "              {\n",
        "                  i: {\n",
        "                      \"arrivalTime\": j[\"arrivalTime\"],\n",
        "                      \"departureTime\": j[\"departureTime\"],\n",
        "                  }\n",
        "              }\n",
        "          )\n",
        "          StationDetails.stationData.update(\n",
        "              {\n",
        "                  self.stationCode: {\n",
        "                      \"name\": self.stationName,\n",
        "                      \"distance\": self.distance,\n",
        "                      \"stoppingTrainNo\": self.stoppingTrains,\n",
        "                  }\n",
        "              }\n",
        "          )\n",
        "\n",
        "\n",
        "class FoodDetails:\n",
        "  foodData = {}\n",
        "\n",
        "  def __init__(self, trainNo, foodDetails):\n",
        "      self.trainNo = trainNo\n",
        "      self.foodDetails = foodDetails\n",
        "\n",
        "  def foodDataEntry(self):\n",
        "      self.cuisineList = {}\n",
        "      for i, j in self.foodDetails.items():\n",
        "          self.subFoodList = {}\n",
        "          for k, l in j[\"mealOptions\"].items():\n",
        "              self.subFoodList.update(\n",
        "                  {\n",
        "                      k: {\n",
        "                          \"meal\": l[\"meal\"],\n",
        "                          \"availableQty\": l[\"availableQty\"],\n",
        "                          \"price\": l[\"price\"],\n",
        "                      }\n",
        "                  }\n",
        "              )\n",
        "          self.cuisineList.update(\n",
        "              {i: {\"cuisine\": j[\"cuisine\"], \"mealOptions\": self.subFoodList}}\n",
        "          )\n",
        "      self.foodData.update({self.trainNo: self.cuisineList})\n",
        "\n",
        "class TicketHandling:\n",
        "\n",
        "  pass\n",
        "\n",
        "\n",
        "class UserPrompt:\n",
        "\n",
        "  def userResponse(self,promptText, inputType, inputVerifier):\n",
        "    self.promptText = promptText\n",
        "    self.inputType = inputType\n",
        "    self.inputVerifier = inputVerifier\n",
        "    if self.inputType == int:\n",
        "      self.userResponse = int(input(self.promptText))\n",
        "    else:\n",
        "      self.userResponse = input(self.promptText)\n",
        "    while self.userResponse not in self.inputVerifier:\n",
        "      if self.inputType == int:\n",
        "        self.userResponse = int(UserPrompt.userResponse(self,self.promptText, self.inputType, self.inputVerifier))\n",
        "      else:\n",
        "        self.userResponse = UserPrompt.userResponse(self,self.promptText, self.inputType, self.inputVerifier)\n",
        "    return self.userResponse\n",
        "\n",
        "\n",
        "\n"
      ]
    },
    {
      "cell_type": "code",
      "source": [
        "class ConfigLables:\n",
        "\n",
        "  GETTRAINNUMBER = '\\nPlease Enter the Train Number: '\n",
        "\n",
        "class UserPrompt(ConfigLables):\n",
        "\n",
        "  def userResponse(self,promptText, inputType, inputVerifier):\n",
        "    self.promptText = promptText\n",
        "    self.inputType = inputType\n",
        "    self.inputVerifier = inputVerifier\n",
        "    if self.inputType == int:\n",
        "      self.userResponse = int(input(self.promptText))\n",
        "    else:\n",
        "      self.userResponse = input(self.promptText)\n",
        "    while self.userResponse not in self.inputVerifier:\n",
        "      if self.inputType == int:\n",
        "        self.userResponse = int(UserPrompt.userResponse(self,self.promptText, self.inputType, self.inputVerifier))\n",
        "      else:\n",
        "        self.userResponse = UserPrompt.userResponse(self,self.promptText, self.inputType, self.inputVerifier)\n",
        "    return self.userResponse"
      ],
      "metadata": {
        "id": "HWfoFqz-D3w8"
      },
      "execution_count": 133,
      "outputs": []
    },
    {
      "cell_type": "code",
      "source": [
        "u1 = UserPrompt()\n",
        "u1.userResponse(u1.GETTRAINNUMBER,str,['100001','100002'])"
      ],
      "metadata": {
        "id": "iTQvoTBBF7dA",
        "colab": {
          "base_uri": "https://localhost:8080/",
          "height": 105
        },
        "outputId": "6ea9979a-5d33-4dd6-882f-d200d26b0796"
      },
      "execution_count": 52,
      "outputs": [
        {
          "name": "stdout",
          "output_type": "stream",
          "text": [
            "\n",
            "Please Enter the Train Number: 1001\n",
            "\n",
            "Please Enter the Train Number: 100001\n"
          ]
        },
        {
          "output_type": "execute_result",
          "data": {
            "text/plain": [
              "'100001'"
            ],
            "application/vnd.google.colaboratory.intrinsic+json": {
              "type": "string"
            }
          },
          "metadata": {},
          "execution_count": 52
        }
      ]
    },
    {
      "cell_type": "code",
      "source": [
        "t1 = TrainDetails(100001,'Madurai Express',100,50.00,150,40.00,300,30.00,140,10.00,['VM','TPJ'],'MS','MDU',2.00)\n",
        "t1.trainDataEntry()"
      ],
      "metadata": {
        "id": "StpBpi_bD5vT"
      },
      "execution_count": 231,
      "outputs": []
    },
    {
      "cell_type": "code",
      "source": [
        "t1.displayTrainDetailsWithCoach(100001)"
      ],
      "metadata": {
        "colab": {
          "base_uri": "https://localhost:8080/"
        },
        "id": "D7r3GsNQNsJA",
        "outputId": "767a8618-fa34-4da3-b0f2-d6849b571c74"
      },
      "execution_count": 235,
      "outputs": [
        {
          "output_type": "stream",
          "name": "stdout",
          "text": [
            "\n",
            "****************************** Train Number: 100001 ******************************\n",
            "Coach: 1AC  || Available seats(200)  || Fare: 50.00 Per Adult + Reservartion Chargers\n",
            "Coach: 2AC  || Available seats(150)  || Fare: 40.00 Per Adult + Reservartion Chargers\n",
            "Coach: SLP  || Available seats(300)  || Fare: 30.00 Per Adult + Reservartion Chargers\n",
            "Coach: GEN  || Available seats(140)  || Fare: 10.00 Per Adult + Reservartion Chargers\n"
          ]
        }
      ]
    },
    {
      "cell_type": "code",
      "source": [
        "t1.updateAvailableSeats(100001,'1AC',150,'book')"
      ],
      "metadata": {
        "id": "Peby_rEpRFnp"
      },
      "execution_count": 234,
      "outputs": []
    },
    {
      "cell_type": "code",
      "source": [
        "print(t1.getTrainName(100001))"
      ],
      "metadata": {
        "id": "gZJgoP9ZNmXU",
        "outputId": "49326eb5-0ad5-4442-c9cb-7591816d36fb",
        "colab": {
          "base_uri": "https://localhost:8080/"
        }
      },
      "execution_count": 125,
      "outputs": [
        {
          "output_type": "stream",
          "name": "stdout",
          "text": [
            "Madurai Express\n"
          ]
        }
      ]
    },
    {
      "cell_type": "code",
      "source": [
        "s1 = StationDetails('MS','Chennai Egmore',0,{100001:{'arrivalTime':'10.00 AM','departureTime':'10:10 AM'},100004:{'arrivalTime':'12:00 PM', 'departureTime':'12:10 PM'}})\n",
        "s1.stationDataEntry()"
      ],
      "metadata": {
        "id": "ShdoODcCD71l"
      },
      "execution_count": null,
      "outputs": []
    },
    {
      "cell_type": "code",
      "source": [
        "f1 = FoodDetails(100001,{1:{'cuisine':'South Indian','mealOptions': {1:{'meal':'Break Fast - Idly', 'availableQty':50,'price':50},\n",
        "                                                      2:{'meal':'Lunch - Biriyani', 'availableQty':50,'price':50}}},\n",
        "                         2:{'cuisine':'North Indian','mealOptions': {1:{'meal':'Break Fast - Poori', 'availableQty':50,'price':50},\n",
        "                                                      2:{'meal':'Lunch - Chapathi', 'availableQty':50,'price':50}}},})\n",
        "f1.foodDataEntry()\n",
        "FoodDetails.foodData"
      ],
      "metadata": {
        "colab": {
          "base_uri": "https://localhost:8080/"
        },
        "id": "S8kw8gZqJoc9",
        "outputId": "6c686d15-7c2d-40df-8111-54e6076f7962"
      },
      "execution_count": null,
      "outputs": [
        {
          "output_type": "execute_result",
          "data": {
            "text/plain": [
              "{100001: {1: {'cuisine': 'South Indian',\n",
              "   'mealOptions': {1: {'meal': 'Break Fast - Idly',\n",
              "     'availableQty': 50,\n",
              "     'price': 50},\n",
              "    2: {'meal': 'Lunch - Biriyani', 'availableQty': 50, 'price': 50}}},\n",
              "  2: {'cuisine': 'North Indian',\n",
              "   'mealOptions': {1: {'meal': 'Break Fast - Poori',\n",
              "     'availableQty': 50,\n",
              "     'price': 50},\n",
              "    2: {'meal': 'Lunch - Chapathi', 'availableQty': 50, 'price': 50}}}}}"
            ]
          },
          "metadata": {},
          "execution_count": 130
        }
      ]
    },
    {
      "cell_type": "code",
      "source": [
        "testData = {100001:{1:{'cuisine':'South Indian',1:{'meal':'Break Fast - Idly','availableQty':50,'price':50.00}}}}\n",
        "testData"
      ],
      "metadata": {
        "colab": {
          "base_uri": "https://localhost:8080/"
        },
        "id": "cLqGTKiMMX8i",
        "outputId": "cea58382-b892-4319-ba8c-017042a9cdf3"
      },
      "execution_count": null,
      "outputs": [
        {
          "output_type": "execute_result",
          "data": {
            "text/plain": [
              "{100001: {1: {'cuisine': 'South Indian',\n",
              "   1: {'meal': 'Break Fast - Idly', 'availableQty': 50, 'price': 50.0}}}}"
            ]
          },
          "metadata": {},
          "execution_count": 104
        }
      ]
    },
    {
      "cell_type": "code",
      "source": [
        "TranDetails.trainData"
      ],
      "metadata": {
        "colab": {
          "base_uri": "https://localhost:8080/"
        },
        "id": "a4hk2oGXsnAi",
        "outputId": "4c72a939-c5ff-431a-95cd-64c0fb2dc08d"
      },
      "execution_count": null,
      "outputs": [
        {
          "output_type": "execute_result",
          "data": {
            "text/plain": [
              "{100001: {'name': 'Madurai Express',\n",
              "  'availableCoaches': {'1AC': {'availableSeats': 100, 'baseFare': 50.0},\n",
              "   '2AC': {'availableSeats': 150, 'baseFare': 40.0},\n",
              "   'SL': {'availableSeats': 300, 'baseFare': 30.0},\n",
              "   'GN': {'availableSeats': 140, 'baseFare': 10.0}},\n",
              "  'stoppingSations': ['VM', 'TPJ'],\n",
              "  'departureStation': 'MS',\n",
              "  'arrivalStation': 'MS',\n",
              "  'pricePerKm': 2.0}}"
            ]
          },
          "metadata": {},
          "execution_count": 92
        }
      ]
    },
    {
      "cell_type": "code",
      "source": [
        "StationDetails.stationData"
      ],
      "metadata": {
        "colab": {
          "base_uri": "https://localhost:8080/"
        },
        "id": "T2WBGvPeEIEt",
        "outputId": "fa40f23b-bc99-48d3-d949-108109d72333"
      },
      "execution_count": null,
      "outputs": [
        {
          "output_type": "execute_result",
          "data": {
            "text/plain": [
              "{'MS': {'name': 'Chennai Egmore',\n",
              "  'distance': 0,\n",
              "  'stoppingTrainNo': {100001: {'arrivalTime': '10.00 AM',\n",
              "    'departureTime': '10:10 AM'},\n",
              "   100004: {'arrivalTime': '12:00 PM', 'departureTime': '12:10 PM'}}}}"
            ]
          },
          "metadata": {},
          "execution_count": 99
        }
      ]
    }
  ]
}