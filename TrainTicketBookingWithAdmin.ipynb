{
  "nbformat": 4,
  "nbformat_minor": 0,
  "metadata": {
    "colab": {
      "provenance": [],
      "authorship_tag": "ABX9TyMmZbhpPorvQCLlRWcRcfzr",
      "include_colab_link": true
    },
    "kernelspec": {
      "name": "python3",
      "display_name": "Python 3"
    },
    "language_info": {
      "name": "python"
    }
  },
  "cells": [
    {
      "cell_type": "markdown",
      "metadata": {
        "id": "view-in-github",
        "colab_type": "text"
      },
      "source": [
        "<a href=\"https://colab.research.google.com/github/palanipsb/Chatbot/blob/master/TrainTicketBookingWithAdmin.ipynb\" target=\"_parent\"><img src=\"https://colab.research.google.com/assets/colab-badge.svg\" alt=\"Open In Colab\"/></a>"
      ]
    },
    {
      "cell_type": "code",
      "execution_count": 8,
      "metadata": {
        "id": "bJscdCB5n3NC"
      },
      "outputs": [],
      "source": [
        "class TranDetails:\n",
        "  trainData = {}\n",
        "\n",
        "  def __init__(\n",
        "      self,\n",
        "      trainNo,\n",
        "      trainName,\n",
        "      seatCount1AC,\n",
        "      baseFare1AC,\n",
        "      seatCount2AC,\n",
        "      baseFare2AC,\n",
        "      seatCountSl,\n",
        "      baseFareSl,\n",
        "      seatCountG,\n",
        "      baseFareG,\n",
        "      stoppings,\n",
        "      deptStat,\n",
        "      arrivStat,\n",
        "      pricePerKm,\n",
        "  ):\n",
        "      self.trainNo = trainNo\n",
        "      self.trainName = trainName\n",
        "      self.seatCount1AC = seatCount1AC\n",
        "      self.baseFare1AC = baseFare1AC\n",
        "      self.seatCount2AC = seatCount2AC\n",
        "      self.baseFare2AC = baseFare2AC\n",
        "      self.seatCountSl = seatCountSl\n",
        "      self.baseFareSl = baseFareSl\n",
        "      self.seatCountG = seatCountG\n",
        "      self.baseFareG = baseFareG\n",
        "      self.stoppings = stoppings\n",
        "      self.deptStat = deptStat\n",
        "      self.arrivStat = deptStat\n",
        "      self.pricePerKm = pricePerKm\n",
        "\n",
        "  def trainDataEntry(self):\n",
        "      TranDetails.trainData.update(\n",
        "          {\n",
        "              self.trainNo: {\n",
        "                  \"name\": self.trainName,\n",
        "                  \"availableCoaches\": {\n",
        "                      \"1AC\": {\n",
        "                          \"availableSeats\": self.seatCount1AC,\n",
        "                          \"baseFare\": self.baseFare1AC,\n",
        "                      },\n",
        "                      \"2AC\": {\n",
        "                          \"availableSeats\": self.seatCount2AC,\n",
        "                          \"baseFare\": self.baseFare2AC,\n",
        "                      },\n",
        "                      \"SL\": {\n",
        "                          \"availableSeats\": self.seatCountSl,\n",
        "                          \"baseFare\": self.baseFareSl,\n",
        "                      },\n",
        "                      \"GN\": {\n",
        "                          \"availableSeats\": self.seatCountG,\n",
        "                          \"baseFare\": self.baseFareG,\n",
        "                      },\n",
        "                  },\n",
        "                  \"stoppingSations\": self.stoppings,\n",
        "                  \"departureStation\": self.deptStat,\n",
        "                  \"arrivalStation\": self.arrivStat,\n",
        "                  \"pricePerKm\": self.pricePerKm,\n",
        "              }\n",
        "          }\n",
        "      )\n",
        "\n",
        "  def getTrainName(self, trainNo):\n",
        "    self.trainNo = trainNo\n",
        "    self.trainName = [j['name'] for i, j in TranDetails.trainData.items() if i==self.trainNo][0]\n",
        "    return (self.trainName)\n",
        "\n",
        "  def getTrainStoppings(self,trainNo):\n",
        "    self.trainNo = trainNo\n",
        "    self.trainStoppings = [j['stoppingSations'] for i, j in TranDetails.trainData.items() if i==self.trainNo][0]\n",
        "    return (self.trainStoppings)\n",
        "\n",
        "class StationDetails:\n",
        "  stationData = {}\n",
        "  stoppingTrains = {}\n",
        "\n",
        "  def __init__(self, stationCode, stationName, distance, trainDetails):\n",
        "      self.stationCode = stationCode\n",
        "      self.stationName = stationName\n",
        "      self.distance = distance\n",
        "      self.trainDetails = trainDetails\n",
        "\n",
        "  def stationDataEntry(self):\n",
        "      stationData = {}\n",
        "      for i, j in self.trainDetails.items():\n",
        "          self.stoppingTrains.update(\n",
        "              {\n",
        "                  i: {\n",
        "                      \"arrivalTime\": j[\"arrivalTime\"],\n",
        "                      \"departureTime\": j[\"departureTime\"],\n",
        "                  }\n",
        "              }\n",
        "          )\n",
        "          StationDetails.stationData.update(\n",
        "              {\n",
        "                  self.stationCode: {\n",
        "                      \"name\": self.stationName,\n",
        "                      \"distance\": self.distance,\n",
        "                      \"stoppingTrainNo\": self.stoppingTrains,\n",
        "                  }\n",
        "              }\n",
        "          )\n",
        "\n",
        "\n",
        "class FoodDetails:\n",
        "  foodData = {}\n",
        "\n",
        "  def __init__(self, trainNo, foodDetails):\n",
        "      self.trainNo = trainNo\n",
        "      self.foodDetails = foodDetails\n",
        "\n",
        "  def foodDataEntry(self):\n",
        "      self.cuisineList = {}\n",
        "      for i, j in self.foodDetails.items():\n",
        "          self.subFoodList = {}\n",
        "          for k, l in j[\"mealOptions\"].items():\n",
        "              self.subFoodList.update(\n",
        "                  {\n",
        "                      k: {\n",
        "                          \"meal\": l[\"meal\"],\n",
        "                          \"availableQty\": l[\"availableQty\"],\n",
        "                          \"price\": l[\"price\"],\n",
        "                      }\n",
        "                  }\n",
        "              )\n",
        "          self.cuisineList.update(\n",
        "              {i: {\"cuisine\": j[\"cuisine\"], \"mealOptions\": self.subFoodList}}\n",
        "          )\n",
        "      self.foodData.update({self.trainNo: self.cuisineList})\n",
        "\n",
        "class TicketHandling:\n",
        "\n",
        "  pass\n",
        "\n",
        "class UserInfo():\n",
        "  pass\n",
        "\n",
        "class UserPrompt:\n",
        "\n",
        "  def __init__(self,promptText,inputType, inputVerifier):\n",
        "    self.promptText = promptText\n",
        "    self.inputType = inputType\n",
        "    self.inputVerifier - inputVerifier\n",
        "\n",
        "  def userResponse(self):\n",
        "    userResponse = input(self.promptText)\n",
        "    return userResponse\n",
        "\n",
        "class ConfigLables:\n",
        "\n",
        "  GETTRAINNUMBER = '\\nPlease Enter the Train Number: '\n",
        "\n"
      ]
    },
    {
      "cell_type": "code",
      "source": [],
      "metadata": {
        "id": "HWfoFqz-D3w8"
      },
      "execution_count": null,
      "outputs": []
    },
    {
      "cell_type": "code",
      "source": [],
      "metadata": {
        "id": "iTQvoTBBF7dA"
      },
      "execution_count": null,
      "outputs": []
    },
    {
      "cell_type": "code",
      "source": [
        "t1 = TranDetails(100001,'Madurai Express',100,50.00,150,40.00,300,30.00,140,10.00,['VM','TPJ'],'MS','MDU',2.00)\n",
        "t1.trainDataEntry()"
      ],
      "metadata": {
        "id": "StpBpi_bD5vT"
      },
      "execution_count": 9,
      "outputs": []
    },
    {
      "cell_type": "code",
      "source": [
        "print(t1.getTrainStoppings(100001))"
      ],
      "metadata": {
        "id": "D7r3GsNQNsJA",
        "outputId": "99f29212-e35b-4cab-90d8-2cef7fb0b5dc",
        "colab": {
          "base_uri": "https://localhost:8080/"
        }
      },
      "execution_count": 10,
      "outputs": [
        {
          "output_type": "stream",
          "name": "stdout",
          "text": [
            "['VM', 'TPJ']\n"
          ]
        }
      ]
    },
    {
      "cell_type": "code",
      "source": [
        "s1 = StationDetails('MS','Chennai Egmore',0,{100001:{'arrivalTime':'10.00 AM','departureTime':'10:10 AM'},100004:{'arrivalTime':'12:00 PM', 'departureTime':'12:10 PM'}})\n",
        "s1.stationDataEntry()"
      ],
      "metadata": {
        "id": "ShdoODcCD71l"
      },
      "execution_count": null,
      "outputs": []
    },
    {
      "cell_type": "code",
      "source": [
        "f1 = FoodDetails(100001,{1:{'cuisine':'South Indian','mealOptions': {1:{'meal':'Break Fast - Idly', 'availableQty':50,'price':50},\n",
        "                                                      2:{'meal':'Lunch - Biriyani', 'availableQty':50,'price':50}}},\n",
        "                         2:{'cuisine':'North Indian','mealOptions': {1:{'meal':'Break Fast - Poori', 'availableQty':50,'price':50},\n",
        "                                                      2:{'meal':'Lunch - Chapathi', 'availableQty':50,'price':50}}},})\n",
        "f1.foodDataEntry()\n",
        "FoodDetails.foodData"
      ],
      "metadata": {
        "colab": {
          "base_uri": "https://localhost:8080/"
        },
        "id": "S8kw8gZqJoc9",
        "outputId": "6c686d15-7c2d-40df-8111-54e6076f7962"
      },
      "execution_count": null,
      "outputs": [
        {
          "output_type": "execute_result",
          "data": {
            "text/plain": [
              "{100001: {1: {'cuisine': 'South Indian',\n",
              "   'mealOptions': {1: {'meal': 'Break Fast - Idly',\n",
              "     'availableQty': 50,\n",
              "     'price': 50},\n",
              "    2: {'meal': 'Lunch - Biriyani', 'availableQty': 50, 'price': 50}}},\n",
              "  2: {'cuisine': 'North Indian',\n",
              "   'mealOptions': {1: {'meal': 'Break Fast - Poori',\n",
              "     'availableQty': 50,\n",
              "     'price': 50},\n",
              "    2: {'meal': 'Lunch - Chapathi', 'availableQty': 50, 'price': 50}}}}}"
            ]
          },
          "metadata": {},
          "execution_count": 130
        }
      ]
    },
    {
      "cell_type": "code",
      "source": [
        "testData = {100001:{1:{'cuisine':'South Indian',1:{'meal':'Break Fast - Idly','availableQty':50,'price':50.00}}}}\n",
        "testData"
      ],
      "metadata": {
        "colab": {
          "base_uri": "https://localhost:8080/"
        },
        "id": "cLqGTKiMMX8i",
        "outputId": "cea58382-b892-4319-ba8c-017042a9cdf3"
      },
      "execution_count": null,
      "outputs": [
        {
          "output_type": "execute_result",
          "data": {
            "text/plain": [
              "{100001: {1: {'cuisine': 'South Indian',\n",
              "   1: {'meal': 'Break Fast - Idly', 'availableQty': 50, 'price': 50.0}}}}"
            ]
          },
          "metadata": {},
          "execution_count": 104
        }
      ]
    },
    {
      "cell_type": "code",
      "source": [
        "TranDetails.trainData"
      ],
      "metadata": {
        "colab": {
          "base_uri": "https://localhost:8080/"
        },
        "id": "a4hk2oGXsnAi",
        "outputId": "4c72a939-c5ff-431a-95cd-64c0fb2dc08d"
      },
      "execution_count": null,
      "outputs": [
        {
          "output_type": "execute_result",
          "data": {
            "text/plain": [
              "{100001: {'name': 'Madurai Express',\n",
              "  'availableCoaches': {'1AC': {'availableSeats': 100, 'baseFare': 50.0},\n",
              "   '2AC': {'availableSeats': 150, 'baseFare': 40.0},\n",
              "   'SL': {'availableSeats': 300, 'baseFare': 30.0},\n",
              "   'GN': {'availableSeats': 140, 'baseFare': 10.0}},\n",
              "  'stoppingSations': ['VM', 'TPJ'],\n",
              "  'departureStation': 'MS',\n",
              "  'arrivalStation': 'MS',\n",
              "  'pricePerKm': 2.0}}"
            ]
          },
          "metadata": {},
          "execution_count": 92
        }
      ]
    },
    {
      "cell_type": "code",
      "source": [
        "StationDetails.stationData"
      ],
      "metadata": {
        "colab": {
          "base_uri": "https://localhost:8080/"
        },
        "id": "T2WBGvPeEIEt",
        "outputId": "fa40f23b-bc99-48d3-d949-108109d72333"
      },
      "execution_count": null,
      "outputs": [
        {
          "output_type": "execute_result",
          "data": {
            "text/plain": [
              "{'MS': {'name': 'Chennai Egmore',\n",
              "  'distance': 0,\n",
              "  'stoppingTrainNo': {100001: {'arrivalTime': '10.00 AM',\n",
              "    'departureTime': '10:10 AM'},\n",
              "   100004: {'arrivalTime': '12:00 PM', 'departureTime': '12:10 PM'}}}}"
            ]
          },
          "metadata": {},
          "execution_count": 99
        }
      ]
    }
  ]
}